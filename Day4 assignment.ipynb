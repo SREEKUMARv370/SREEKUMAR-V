{
  "nbformat": 4,
  "nbformat_minor": 0,
  "metadata": {
    "colab": {
      "provenance": []
    },
    "kernelspec": {
      "name": "python3",
      "display_name": "Python 3"
    },
    "language_info": {
      "name": "python"
    }
  },
  "cells": [
    {
      "cell_type": "code",
      "execution_count": null,
      "metadata": {
        "id": "mee0JJB64wDp"
      },
      "outputs": [],
      "source": []
    },
    {
      "cell_type": "markdown",
      "source": [
        "1 Qn 1 Ans\n"
      ],
      "metadata": {
        "id": "21Ngs7GP4y-g"
      }
    },
    {
      "cell_type": "code",
      "source": [
        "number=10\n",
        "guess=int(input('Guess the secret number'))\n",
        "while number!=guess:\n",
        "  if guess > number:\n",
        "    print('Too high! Try again.')\n",
        "\n",
        "  else:\n",
        "    print('Too low! Try again.')\n",
        "  guess=int(input('Guess the secret number'))\n",
        "\n",
        "else:\n",
        "  print(\"Congratulations! You guessed the number correctly!\")"
      ],
      "metadata": {
        "colab": {
          "base_uri": "https://localhost:8080/"
        },
        "id": "aWrL1fj441J5",
        "outputId": "77f60445-95eb-4150-8b98-fcb338503761"
      },
      "execution_count": 1,
      "outputs": [
        {
          "output_type": "stream",
          "name": "stdout",
          "text": [
            "Guess the secret number7\n",
            "Congratulations! You guessed the number correctly!\n"
          ]
        }
      ]
    },
    {
      "cell_type": "markdown",
      "source": [
        "2 qn 1st part\n"
      ],
      "metadata": {
        "id": "CUAKcCfS47Hy"
      }
    },
    {
      "cell_type": "code",
      "source": [
        "user=int(input('enter num'))\n",
        "fact=1\n",
        "for num in range(1,user+1):\n",
        "  fact=fact*num\n",
        "\n",
        "print(fact)"
      ],
      "metadata": {
        "colab": {
          "base_uri": "https://localhost:8080/"
        },
        "id": "PeqRy7_e42AU",
        "outputId": "84adda4f-b9ac-48b6-d0ae-f9f5a3a8adf6"
      },
      "execution_count": 3,
      "outputs": [
        {
          "output_type": "stream",
          "name": "stdout",
          "text": [
            "enter num5\n",
            "120\n"
          ]
        }
      ]
    },
    {
      "cell_type": "markdown",
      "source": [
        "2nd part\n"
      ],
      "metadata": {
        "id": "ZYda5fU25FYo"
      }
    },
    {
      "cell_type": "code",
      "source": [
        "l=180\n",
        "w=int(input('enter width in pixels'))\n",
        "h=int(input('enter height in pixels'))\n",
        "while w!=l and h!=l:\n",
        "  if w<l or h<l:\n",
        "    print('UPLOAD ANOTHER')\n",
        "    w=int(input('enter width in pixels'))\n",
        "    h=int(input('enter height in pixels'))\n",
        "\n",
        "  elif w>l and h>l:\n",
        "    if w==h:\n",
        "      print('ACCEPTED')\n",
        "      break\n",
        "    else:\n",
        "      print('CROP IT')\n",
        "      w=int(input('enter width in pixels'))\n",
        "      h=int(input('enter height in pixels'))\n",
        "\n",
        "else:\n",
        "  print('ACCEPTED')"
      ],
      "metadata": {
        "colab": {
          "base_uri": "https://localhost:8080/"
        },
        "id": "-2oXaQzJ5A3I",
        "outputId": "de6048ee-c369-4455-c7a8-0deb92cb8888"
      },
      "execution_count": 6,
      "outputs": [
        {
          "output_type": "stream",
          "name": "stdout",
          "text": [
            "enter width in pixels210\n",
            "enter height in pixels210\n",
            "ACCEPTED\n"
          ]
        }
      ]
    },
    {
      "cell_type": "code",
      "source": [],
      "metadata": {
        "id": "f6gfbu7D5K2c"
      },
      "execution_count": null,
      "outputs": []
    }
  ]
}