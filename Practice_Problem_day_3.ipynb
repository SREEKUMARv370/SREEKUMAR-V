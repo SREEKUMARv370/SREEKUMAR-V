{
  "nbformat": 4,
  "nbformat_minor": 0,
  "metadata": {
    "colab": {
      "provenance": []
    },
    "kernelspec": {
      "name": "python3",
      "display_name": "Python 3"
    },
    "language_info": {
      "name": "python"
    }
  },
  "cells": [
    {
      "cell_type": "code",
      "execution_count": 25,
      "metadata": {
        "colab": {
          "base_uri": "https://localhost:8080/"
        },
        "id": "Oc8w3a59mKlI",
        "outputId": "9bb60ae2-2bb8-47d6-d1fa-d97c554a0a1d"
      },
      "outputs": [
        {
          "output_type": "stream",
          "name": "stdout",
          "text": [
            "Runner up score is:  9\n"
          ]
        }
      ],
      "source": [
        "scores = [2, 5, 7, 9, 3, 5, 8, 10, 9]\n",
        "sorted_list = sorted(scores)\n",
        "print('Runner up score is: ',sorted_list[-2])"
      ]
    },
    {
      "cell_type": "markdown",
      "source": [
        "2.answer 2"
      ],
      "metadata": {
        "id": "UFfc7chIpLDl"
      }
    },
    {
      "cell_type": "code",
      "source": [
        "D= {'John':[25,32,43],'Peter':[87,55,96],'Ram':[58,55,43],'Meena':[63,79,85]}\n",
        "name= (input('Enter the name '))\n",
        "if name in D:\n",
        "  D[name] = [88,77,99]\n",
        "  print('the dictionary is ',D)\n",
        "else:\n",
        "  print('Name not found')"
      ],
      "metadata": {
        "colab": {
          "base_uri": "https://localhost:8080/"
        },
        "id": "2YzYGhswoGAd",
        "outputId": "fbf70ec4-cceb-4313-9bbe-e29f998a7fd5"
      },
      "execution_count": 22,
      "outputs": [
        {
          "output_type": "stream",
          "name": "stdout",
          "text": [
            "Enter the name Ram\n",
            "the dictionary is  {'John': [25, 32, 43], 'Peter': [87, 55, 96], 'Ram': [88, 77, 99], 'Meena': [63, 79, 85]}\n"
          ]
        }
      ]
    },
    {
      "cell_type": "markdown",
      "source": [
        "3.answer 3"
      ],
      "metadata": {
        "id": "p2sf5Sepxrxl"
      }
    },
    {
      "cell_type": "code",
      "source": [
        "age = int(input(\"Enter your age: \"))\n",
        "gender = input(\"Enter your gender (male/female): \")\n",
        "if age < 5 or age > 60:\n",
        "    ticket_price = 0\n",
        "elif 5 <= age <= 12:\n",
        "    ticket_price = 10\n",
        "else:\n",
        "    ticket_price = 50\n",
        "if gender.lower() == \"female\":\n",
        "    ticket_price *= 0.5\n",
        "print(\"The ticket price is: Rs.\",ticket_price)"
      ],
      "metadata": {
        "colab": {
          "base_uri": "https://localhost:8080/"
        },
        "id": "oFBNzwiP_7-6",
        "outputId": "5c3cc48c-c5e9-455e-ee27-25d32ac02c6f"
      },
      "execution_count": 23,
      "outputs": [
        {
          "output_type": "stream",
          "name": "stdout",
          "text": [
            "Enter your age: 37\n",
            "Enter your gender (male/female): female\n",
            "The ticket price is: Rs. 25.0\n"
          ]
        }
      ]
    }
  ]
}