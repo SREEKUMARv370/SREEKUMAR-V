{
  "nbformat": 4,
  "nbformat_minor": 0,
  "metadata": {
    "colab": {
      "provenance": []
    },
    "kernelspec": {
      "name": "python3",
      "display_name": "Python 3"
    },
    "language_info": {
      "name": "python"
    }
  },
  "cells": [
    {
      "cell_type": "markdown",
      "source": [
        "1.answer 1"
      ],
      "metadata": {
        "id": "_Mvnr1OkiUtR"
      }
    },
    {
      "cell_type": "code",
      "execution_count": null,
      "metadata": {
        "colab": {
          "base_uri": "https://localhost:8080/"
        },
        "id": "_YP27toUiOHy",
        "outputId": "a31e7481-7a30-48a8-c3c0-4b5db03b8550"
      },
      "outputs": [
        {
          "output_type": "stream",
          "name": "stdout",
          "text": [
            "enter 1st number4\n",
            "enter 2nd number1\n",
            "enter 3rd number2\n",
            "middle value is:  (<class 'int'>, '2')\n"
          ]
        }
      ],
      "source": [
        "def value(a,b,c):\n",
        "   values=[a,b,c]\n",
        "   sort=sorted(values)\n",
        "   return sort[1]\n",
        "\n",
        "num1= int,input(\"enter 1st number\")\n",
        "num2= int,input(\"enter 2nd number\")\n",
        "num3= int,input(\"enter 3rd number\")\n",
        "\n",
        "middle_value=value(num1,num2,num3)\n",
        "print(\"middle value is: \",middle_value)"
      ]
    },
    {
      "cell_type": "markdown",
      "source": [
        "2.anwer.2"
      ],
      "metadata": {
        "id": "AhEq9Kia5Iy2"
      }
    },
    {
      "cell_type": "code",
      "source": [
        "import math\n",
        "def screen():\n",
        "  print(\"chooce the operation\")\n",
        "  print(\"1. add\")\n",
        "  print(\"1. sustract\")\n",
        "  print(\"1. multiply\")\n",
        "  print(\"1. divid\")\n",
        "  print(\"1. modules\")\n",
        "\n",
        "  choice=input(\"Enter your choice (1/2/3/4/5): \")\n",
        "  num1 = float(input(\"Enter first number: \"))\n",
        "  num2 = float(input(\"Enter second number: \"))\n",
        "\n",
        "  if choice=='1':\n",
        "     print(\"result: \",num1+num2)\n",
        "\n",
        "  elif choice=='2':\n",
        "     print(\"result: \",num1-num2)\n",
        "\n",
        "  elif choice=='3':\n",
        "     print(\"result: \",num1*num2)\n",
        "\n",
        "  elif choice=='2':\n",
        "     print(\"result: \",num1/num2)\n",
        "\n",
        "  elif choice=='2':\n",
        "     print(\"result: \",num1%num2)\n",
        "\n",
        "  else:\n",
        "     print(\"Invalid input\")\n",
        "\n",
        "screen()"
      ],
      "metadata": {
        "colab": {
          "base_uri": "https://localhost:8080/"
        },
        "id": "cK6jeVON5CYT",
        "outputId": "dec87f4b-1fae-4c49-ad58-cefc9194ef7a"
      },
      "execution_count": null,
      "outputs": [
        {
          "output_type": "stream",
          "name": "stdout",
          "text": [
            "chooce the operation\n",
            "1. add\n",
            "1. sustract\n",
            "1. multiply\n",
            "1. divid\n",
            "1. modules\n",
            "Enter your choice (1/2/3/4/5): 1\n",
            "Enter first number: 3\n",
            "Enter second number: 4\n",
            "result:  7.0\n"
          ]
        }
      ]
    },
    {
      "cell_type": "markdown",
      "source": [
        "3.answer 3"
      ],
      "metadata": {
        "id": "ILsmPKUQnCTU"
      }
    },
    {
      "cell_type": "code",
      "source": [
        "def right_triangle(l,b):\n",
        "   h= (l ** 2 + b ** 2) ** 0.5\n",
        "   return h\n",
        "\n",
        "side1=3\n",
        "side2=4\n",
        "result= right_triangle(side1,side2)\n",
        "print(\"hypotenuse is : \",result)"
      ],
      "metadata": {
        "colab": {
          "base_uri": "https://localhost:8080/"
        },
        "id": "EjXLvwYBm8B6",
        "outputId": "549e70cc-de18-49df-fa27-b10fc24b1dfe"
      },
      "execution_count": null,
      "outputs": [
        {
          "output_type": "stream",
          "name": "stdout",
          "text": [
            "hypotenuse is :  5.0\n"
          ]
        }
      ]
    },
    {
      "cell_type": "markdown",
      "source": [
        "4.ansswer.4"
      ],
      "metadata": {
        "id": "SNyIZUUaUwFf"
      }
    },
    {
      "cell_type": "code",
      "source": [
        "#a.\n",
        "\n",
        "class rectangle:\n",
        "  def __init__(self,length,width):\n",
        "    self.length=length\n",
        "    self.width=width\n",
        "\n",
        "#b.\n",
        "\n",
        "  def calulate_perimeter(self):\n",
        "      return 2*(self.length + self.width)\n",
        "\n",
        "  def calulate_area(self):\n",
        "      return self.length*self.width\n",
        "\n",
        "\n",
        "the_rectangle=rectangle(5,8)\n",
        "\n",
        "area=the_rectangle.calulate_area()\n",
        "perimeter=the_rectangle.calulate_perimeter()\n",
        "\n",
        "\n",
        "#c.\n",
        "\n",
        "def display():\n",
        "   print(f\"Length: {the_rectangle.length}\")\n",
        "   print(f\"width: {the_rectangle.width}\")\n",
        "   print(f\"perimeter: {perimeter}\")\n",
        "   print(f\"area: {area}\")\n",
        "\n",
        "display()"
      ],
      "metadata": {
        "id": "nuHIKHW3osiT",
        "colab": {
          "base_uri": "https://localhost:8080/"
        },
        "outputId": "fd4ab478-cd8a-432a-d52b-d864155571ca"
      },
      "execution_count": null,
      "outputs": [
        {
          "output_type": "stream",
          "name": "stdout",
          "text": [
            "Length: 5\n",
            "width: 8\n",
            "perimeter: 26\n",
            "area: 40\n"
          ]
        }
      ]
    },
    {
      "cell_type": "markdown",
      "source": [
        "5.answer5"
      ],
      "metadata": {
        "id": "NZiHedu0rNms"
      }
    },
    {
      "cell_type": "code",
      "source": [
        "#a.\n",
        "class BankAccount:\n",
        "\n",
        "#b.\n",
        "    def __init__(self, accountNumber, name, balance):\n",
        "        self.accountNumber = accountNumber\n",
        "        self.name = name\n",
        "        self.balance = balance\n",
        "#c.\n",
        "    def deposit(self, amount):\n",
        "        if amount > 0:\n",
        "            self.balance += amount\n",
        "            print(f\"Deposit of ${amount} successful.\")\n",
        "        else:\n",
        "            print(\"Deposit amount should be greater than zero.\")\n",
        "#d.\n",
        "    def withdrawal(self, amount):\n",
        "        if amount > 0 and amount <= self.balance:\n",
        "            self.balance -= amount\n",
        "            print(f\"Withdrawal of ${amount} successful.\")\n",
        "        else:\n",
        "            print(\"Withdrawal amount should be greater than zero and less than or equal to the balance.\")\n",
        "#e.\n",
        "    def bankFees(self):\n",
        "        fees = self.balance * 0.05\n",
        "        self.balance -= fees\n",
        "        print(f\"Bank fees of 5% added. ${fees} from the account.\")\n",
        "#f.\n",
        "    def display(self):\n",
        "        print(f\"Account Number: {self.accountNumber}\")\n",
        "        print(f\"Account Name: {self.name}\")\n",
        "        print(f\"Balance: ${self.balance}\")\n",
        "\n",
        "acc = BankAccount(123456, \"Ronaldo\", 1000)\n",
        "\n",
        "acc.display()\n",
        "\n",
        "acc.deposit(500)\n",
        "acc.display()\n",
        "\n",
        "acc.withdrawal(200)\n",
        "acc.display()\n",
        "\n",
        "acc.bankFees()\n",
        "acc.display()\n",
        ""
      ],
      "metadata": {
        "colab": {
          "base_uri": "https://localhost:8080/"
        },
        "id": "ADL8WABxjJvW",
        "outputId": "e83076db-a568-4628-d692-1ae51005a6e2"
      },
      "execution_count": 14,
      "outputs": [
        {
          "output_type": "stream",
          "name": "stdout",
          "text": [
            "Account Number: 123456\n",
            "Account Name: Ronaldo\n",
            "Balance: $1000\n",
            "Deposit of $500 successful.\n",
            "Account Number: 123456\n",
            "Account Name: Ronaldo\n",
            "Balance: $1500\n",
            "Withdrawal of $200 successful.\n",
            "Account Number: 123456\n",
            "Account Name: Ronaldo\n",
            "Balance: $1300\n",
            "Bank fees of 5% added. $65.0 from the account.\n",
            "Account Number: 123456\n",
            "Account Name: Ronaldo\n",
            "Balance: $1235.0\n"
          ]
        }
      ]
    },
    {
      "cell_type": "code",
      "source": [],
      "metadata": {
        "id": "Jn0X-NtRD1GD"
      },
      "execution_count": null,
      "outputs": []
    }
  ]
}