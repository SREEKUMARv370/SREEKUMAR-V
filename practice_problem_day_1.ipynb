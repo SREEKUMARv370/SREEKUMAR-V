{
  "nbformat": 4,
  "nbformat_minor": 0,
  "metadata": {
    "colab": {
      "provenance": []
    },
    "kernelspec": {
      "name": "python3",
      "display_name": "Python 3"
    },
    "language_info": {
      "name": "python"
    }
  },
  "cells": [
    {
      "cell_type": "code",
      "execution_count": 7,
      "metadata": {
        "colab": {
          "base_uri": "https://localhost:8080/"
        },
        "id": "96yNx48hOKPR",
        "outputId": "3842a798-19af-4e5b-d0e3-d59c6cdc3e1f"
      },
      "outputs": [
        {
          "output_type": "stream",
          "name": "stdout",
          "text": [
            "Hello\n"
          ]
        }
      ],
      "source": [
        "sr=\"Hello,world!\"\n",
        "print(sr[:5])\n",
        "\n"
      ]
    },
    {
      "cell_type": "code",
      "source": [
        "sk=\"python is fun\"\n",
        "print(sk[6:9])"
      ],
      "metadata": {
        "colab": {
          "base_uri": "https://localhost:8080/"
        },
        "id": "uCC2SBa1Ohn1",
        "outputId": "fb117c42-663c-4196-bbcf-1b10ac1a08e1"
      },
      "execution_count": 9,
      "outputs": [
        {
          "output_type": "stream",
          "name": "stdout",
          "text": [
            " is\n"
          ]
        }
      ]
    },
    {
      "cell_type": "code",
      "source": [
        "sm=\"programming\"\n",
        "print(sm[3:7])"
      ],
      "metadata": {
        "colab": {
          "base_uri": "https://localhost:8080/"
        },
        "id": "ZTUVNf1ARH5g",
        "outputId": "ff125209-f99e-46f6-bf7c-276b84eb3e95"
      },
      "execution_count": 10,
      "outputs": [
        {
          "output_type": "stream",
          "name": "stdout",
          "text": [
            "gram\n"
          ]
        }
      ]
    },
    {
      "cell_type": "code",
      "source": [
        "sa=\"abcdefgh\"\n",
        "print(sa[2::2])"
      ],
      "metadata": {
        "colab": {
          "base_uri": "https://localhost:8080/"
        },
        "id": "vaqFdsG1RlRE",
        "outputId": "f439664d-b25f-4f32-c7b3-9ca6a6c90a18"
      },
      "execution_count": 32,
      "outputs": [
        {
          "output_type": "stream",
          "name": "stdout",
          "text": [
            "ceg\n"
          ]
        }
      ]
    },
    {
      "cell_type": "code",
      "source": [
        "sb=\"abcdefg\"\n",
        "print(sa[-4:-1])"
      ],
      "metadata": {
        "colab": {
          "base_uri": "https://localhost:8080/"
        },
        "id": "ryMq7MK3Stn-",
        "outputId": "f541370c-0d9e-4e28-be83-4553d2719cf8"
      },
      "execution_count": 21,
      "outputs": [
        {
          "output_type": "stream",
          "name": "stdout",
          "text": [
            "efg\n"
          ]
        }
      ]
    },
    {
      "cell_type": "code",
      "source": [
        "sc=\"Data Science\"\n",
        "print(sc[-3:])"
      ],
      "metadata": {
        "colab": {
          "base_uri": "https://localhost:8080/"
        },
        "id": "5RDVSlAmT1JT",
        "outputId": "5867fac4-715b-46c0-fa8c-45961b2fdec0"
      },
      "execution_count": 25,
      "outputs": [
        {
          "output_type": "stream",
          "name": "stdout",
          "text": [
            "nce\n"
          ]
        }
      ]
    },
    {
      "cell_type": "code",
      "source": [
        "se=\"abcdefghij\"\n",
        "print(se[1::2])"
      ],
      "metadata": {
        "colab": {
          "base_uri": "https://localhost:8080/"
        },
        "id": "AvLvKhw7UXyA",
        "outputId": "8cb3ebeb-d7a0-4520-f1de-3780bdc6e94b"
      },
      "execution_count": 31,
      "outputs": [
        {
          "output_type": "stream",
          "name": "stdout",
          "text": [
            "bdfhj\n"
          ]
        }
      ]
    },
    {
      "cell_type": "code",
      "source": [
        "sf=\"1234567890\"\n",
        "print(sf[::2])"
      ],
      "metadata": {
        "colab": {
          "base_uri": "https://localhost:8080/"
        },
        "id": "iMb5QSekU-nB",
        "outputId": "aeef7abd-2c2a-4a3e-b545-12c06d14771b"
      },
      "execution_count": 35,
      "outputs": [
        {
          "output_type": "stream",
          "name": "stdout",
          "text": [
            "13579\n"
          ]
        }
      ]
    },
    {
      "cell_type": "code",
      "source": [
        "sg=\"Hello\"\n",
        "print(sg[::-1])"
      ],
      "metadata": {
        "colab": {
          "base_uri": "https://localhost:8080/"
        },
        "id": "0huo1NB9V5SE",
        "outputId": "8dc4dbcb-f48d-43fc-e606-a0f4d7a90bb0"
      },
      "execution_count": 48,
      "outputs": [
        {
          "output_type": "stream",
          "name": "stdout",
          "text": [
            "olleH\n"
          ]
        }
      ]
    },
    {
      "cell_type": "code",
      "source": [
        "sh=\"abcdefghijk\"\n",
        "print(sh[::2])"
      ],
      "metadata": {
        "colab": {
          "base_uri": "https://localhost:8080/"
        },
        "id": "S4n8cWNXWV6q",
        "outputId": "3b6cec89-d7cd-499b-d0f6-88247100f3fa"
      },
      "execution_count": 44,
      "outputs": [
        {
          "output_type": "stream",
          "name": "stdout",
          "text": [
            "acegik\n"
          ]
        }
      ]
    },
    {
      "cell_type": "code",
      "source": [],
      "metadata": {
        "id": "zJ6bmOTYXBZ-"
      },
      "execution_count": null,
      "outputs": []
    }
  ]
}